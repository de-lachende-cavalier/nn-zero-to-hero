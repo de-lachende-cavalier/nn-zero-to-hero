{
 "cells": [
  {
   "cell_type": "code",
   "execution_count": 1,
   "metadata": {},
   "outputs": [
    {
     "name": "stdout",
     "output_type": "stream",
     "text": [
      "6.336362190988558\n"
     ]
    }
   ],
   "source": [
    "# here is a mathematical expression that takes 3 inputs and produces one output\n",
    "from math import sin, cos\n",
    "\n",
    "def f(a, b, c):\n",
    "  return -a**3 + sin(3*b) - 1.0/c + b**2.5 - a**0.5\n",
    "\n",
    "a = 2\n",
    "b = 3\n",
    "c = 4\n",
    "\n",
    "print(f(a, b, c))"
   ]
  },
  {
   "cell_type": "code",
   "execution_count": 2,
   "metadata": {},
   "outputs": [
    {
     "name": "stdout",
     "output_type": "stream",
     "text": [
      "OK for dim 0: expected -12.353553390593273, yours returns -12.353553390593273\n",
      "OK for dim 1: expected 10.25699027111255, yours returns 10.25699027111255\n",
      "OK for dim 2: expected 0.0625, yours returns 0.0625\n"
     ]
    }
   ],
   "source": [
    "# caluclate gradient using calculus\n",
    "def gradf(a, b, c):\n",
    "  return [-3.0 * a**2 - 1/(2 * a**0.5), 3 * cos(3 * b) + 2.5*b**1.5, 1.0/c**2 ] # [df/da, df/db, df/dc]\n",
    "\n",
    "# expected answers\n",
    "ans = [-12.353553390593273, 10.25699027111255, 0.0625]\n",
    "yours = gradf(a, b, c)\n",
    "for dim in range(3):\n",
    "  ok = 'OK' if abs(yours[dim] - ans[dim]) < 1e-5 else 'WRONG!'\n",
    "  print(f\"{ok} for dim {dim}: expected {ans[dim]}, yours returns {yours[dim]}\")"
   ]
  },
  {
   "cell_type": "code",
   "execution_count": 3,
   "metadata": {},
   "outputs": [
    {
     "name": "stdout",
     "output_type": "stream",
     "text": [
      "OK for dim 0: expected -12.353553390593273, yours returns -12.353559348809995 (delta: 5.958216721779763e-06)\n",
      "OK for dim 1: expected 10.25699027111255, yours returns 10.256991666679482 (delta: 1.3955669331267018e-06)\n",
      "OK for dim 2: expected 0.0625, yours returns 0.062499984743169534 (delta: 1.5256830465659732e-08)\n"
     ]
    }
   ],
   "source": [
    "# estimate the gradient numerically without any calculus\n",
    "h = 0.000001\n",
    "\n",
    "f_0 = f(a, b, c)\n",
    "dfda = (f(a + h, b, c) - f_0) / h\n",
    "dfdb = (f(a, b + h, c) - f_0) / h\n",
    "dfdc = (f(a, b, c + h) - f_0) / h\n",
    "\n",
    "numerical_grad = [dfda, dfdb, dfdc] \n",
    "\n",
    "for dim in range(3):\n",
    "  delta = abs(numerical_grad[dim] - ans[dim])\n",
    "  ok = 'OK' if delta < 1e-5 else 'WRONG!'\n",
    "  print(f\"{ok} for dim {dim}: expected {ans[dim]}, yours returns {numerical_grad[dim]} (delta: {delta})\")"
   ]
  },
  {
   "cell_type": "code",
   "execution_count": 4,
   "metadata": {},
   "outputs": [
    {
     "name": "stdout",
     "output_type": "stream",
     "text": [
      "OK for dim 0: expected -12.353553390593273, yours returns -12.353553391353245 (delta: 7.599716411732516e-10)\n",
      "OK for dim 1: expected 10.25699027111255, yours returns 10.25699027401572 (delta: 2.9031710369054053e-09)\n",
      "OK for dim 2: expected 0.0625, yours returns 0.06250000028629188 (delta: 2.8629187909245957e-10)\n"
     ]
    }
   ],
   "source": [
    "# numerical gradients through symmetric derivatives (note that the approximation is quite a bit better!)\n",
    "\n",
    "dfda_sym = (f(a + h, b, c) - f(a - h, b, c)) / (2*h)\n",
    "dfdb_sym = (f(a, b + h, c) - f(a, b - h, c)) / (2*h)\n",
    "dfdc_sym = (f(a, b, c + h) - f(a, b, c - h)) / (2*h)\n",
    "\n",
    "numerical_grad2 = [dfda_sym, dfdb_sym, dfdc_sym]\n",
    "\n",
    "for dim in range(3):\n",
    "  delta = abs(numerical_grad2[dim] - ans[dim])\n",
    "  ok = 'OK' if delta < 1e-5 else 'WRONG!'\n",
    "  print(f\"{ok} for dim {dim}: expected {ans[dim]}, yours returns {numerical_grad2[dim]} (delta: {delta})\")\n"
   ]
  },
  {
   "cell_type": "markdown",
   "metadata": {},
   "source": [
    "## Section 2"
   ]
  },
  {
   "cell_type": "code",
   "execution_count": 13,
   "metadata": {},
   "outputs": [],
   "source": [
    "from math import exp, log\n",
    "\n",
    "class Value:\n",
    "  \n",
    "  def __init__(self, data, _children=(), _op='', label=''):\n",
    "    self.data = data\n",
    "    self.grad = 0.0\n",
    "    self._backward = lambda: None\n",
    "    self._prev = set(_children)\n",
    "    self._op = _op\n",
    "    self.label = label\n",
    "\n",
    "  def __repr__(self):\n",
    "    return f\"Value(data={self.data})\"\n",
    "  \n",
    "  def __add__(self, other): # exactly as in the video\n",
    "    other = other if isinstance(other, Value) else Value(other)\n",
    "    out = Value(self.data + other.data, (self, other), '+')\n",
    "    \n",
    "    def _backward():\n",
    "      self.grad += 1.0 * out.grad\n",
    "      other.grad += 1.0 * out.grad\n",
    "    out._backward = _backward\n",
    "    \n",
    "    return out\n",
    "  \n",
    "  def __radd__(self, other):\n",
    "    return self + other\n",
    "  \n",
    "  def __mul__(self, other):\n",
    "    other = other if isinstance(other, Value) else Value(other)\n",
    "    out = Value(self.data * other.data, (self, other), '*')\n",
    "\n",
    "    def _backward():\n",
    "      self.grad += other.data * out.grad\n",
    "      other.grad += self.data * out.grad\n",
    "    out._backward = _backward\n",
    "\n",
    "    return out\n",
    "  \n",
    "  def __rmul__(self, other):\n",
    "    return self * other\n",
    "  \n",
    "  def __pow__(self, other):\n",
    "    assert isinstance(other, (int, float)), \"only supporting int/float powers for now\"\n",
    "    out = Value(self.data**other, (self,), f'**{other}')\n",
    "\n",
    "    def _backward():\n",
    "        self.grad += other * (self.data ** (other - 1)) * out.grad\n",
    "    out._backward = _backward\n",
    "\n",
    "    return out\n",
    "    \n",
    "  def __truediv__(self, other):\n",
    "    return self * other**-1\n",
    "  \n",
    "  def __neg__(self):\n",
    "    return self * -1\n",
    "\n",
    "  def exp(self):\n",
    "    out = Value(exp(self.data), (self,), 'exp')\n",
    "\n",
    "    def _backward():\n",
    "      self.grad += out.data * out.grad\n",
    "    out._backward = _backward\n",
    "\n",
    "    return out\n",
    "  \n",
    "  def log(self):\n",
    "    assert self.data > 0\n",
    "    out = Value(log(self.data), (self,), 'log')\n",
    "\n",
    "    def _backward():\n",
    "      self.grad += (1.0/self.data) * out.grad\n",
    "    out._backward = _backward\n",
    "\n",
    "    return out\n",
    "\n",
    "  def backward(self): # exactly as in video  \n",
    "    topo = []\n",
    "    visited = set()\n",
    "    def build_topo(v):\n",
    "      if v not in visited:\n",
    "        visited.add(v)\n",
    "        for child in v._prev:\n",
    "          build_topo(child)\n",
    "        topo.append(v)\n",
    "    build_topo(self)\n",
    "    \n",
    "    self.grad = 1.0\n",
    "    for node in reversed(topo):\n",
    "      node._backward()"
   ]
  },
  {
   "cell_type": "code",
   "execution_count": 14,
   "metadata": {},
   "outputs": [],
   "source": [
    "# https://en.wikipedia.org/wiki/Softmax_function\n",
    "def softmax(logits):\n",
    "  counts = [logit.exp() for logit in logits]\n",
    "  denominator = sum(counts)\n",
    "  out = [c / denominator for c in counts]\n",
    "  return out"
   ]
  },
  {
   "cell_type": "code",
   "execution_count": 15,
   "metadata": {},
   "outputs": [
    {
     "name": "stdout",
     "output_type": "stream",
     "text": [
      "2.1755153626167147\n",
      "OK for dim 0: expected 0.041772570515350445, yours returns 0.041772570515350445\n",
      "OK for dim 1: expected 0.8390245074625319, yours returns 0.8390245074625319\n",
      "OK for dim 2: expected 0.005653302662216329, yours returns 0.005653302662216329\n",
      "OK for dim 3: expected -0.8864503806400986, yours returns -0.8864503806400986\n"
     ]
    }
   ],
   "source": [
    "# this is the negative log likelihood loss function, pervasive in classification\n",
    "logits = [Value(0.0), Value(3.0), Value(-2.0), Value(1.0)]\n",
    "probs = softmax(logits)\n",
    "loss = -probs[3].log() # dim 3 acts as the label for this input example\n",
    "loss.backward()\n",
    "print(loss.data)\n",
    "\n",
    "ans = [0.041772570515350445, 0.8390245074625319, 0.005653302662216329, -0.8864503806400986]\n",
    "for dim in range(4):\n",
    "  ok = 'OK' if abs(logits[dim].grad - ans[dim]) < 1e-5 else 'WRONG!'\n",
    "  print(f\"{ok} for dim {dim}: expected {ans[dim]}, yours returns {logits[dim].grad}\")"
   ]
  },
  {
   "cell_type": "code",
   "execution_count": 31,
   "metadata": {},
   "outputs": [
    {
     "name": "stdout",
     "output_type": "stream",
     "text": [
      "2.1755154132843018\n",
      "OK for dim 0: torch 0.0417725667357445, expected  0.0417725705153504\n",
      "OK for dim 1: torch 0.8390244841575623, expected  0.8390245074625319\n",
      "OK for dim 2: torch 0.0056533026508987, expected  0.0056533026622163\n",
      "OK for dim 3: torch -0.8864504098892212, expected  -0.8864503806400986\n"
     ]
    }
   ],
   "source": [
    "import torch\n",
    "\n",
    "logits_torch = torch.tensor([0.0, 3.0, -2.0, 1.0], requires_grad=True)\n",
    "probs_torch = torch.nn.functional.softmax(logits_torch, dim=0) # same result as our softmax\n",
    "loss_torch = -torch.log(probs_torch[3])\n",
    "loss_torch.backward()\n",
    "\n",
    "print(f\"{loss_torch.item()}\")\n",
    "\n",
    "for i, grad in enumerate(logits_torch.grad):\n",
    "    ok = 'OK' if abs(logits[dim].grad - ans[dim]) < 1e-5 else 'WRONG!'\n",
    "    print(f\"{ok} for dim {i}: torch {grad.item():.16f}, expected  {ans[i]:.16f}\")"
   ]
  },
  {
   "cell_type": "code",
   "execution_count": null,
   "metadata": {},
   "outputs": [],
   "source": []
  }
 ],
 "metadata": {
  "kernelspec": {
   "display_name": "nn-zero-to-hero",
   "language": "python",
   "name": "python3"
  },
  "language_info": {
   "codemirror_mode": {
    "name": "ipython",
    "version": 3
   },
   "file_extension": ".py",
   "mimetype": "text/x-python",
   "name": "python",
   "nbconvert_exporter": "python",
   "pygments_lexer": "ipython3",
   "version": "3.13.3"
  }
 },
 "nbformat": 4,
 "nbformat_minor": 2
}
